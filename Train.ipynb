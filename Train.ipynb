{
 "cells": [
  {
   "cell_type": "markdown",
   "id": "04249b6a",
   "metadata": {},
   "source": [
    "# Huấn luyện mô hình AI dự báo nhiệt độ"
   ]
  },
  {
   "cell_type": "markdown",
   "id": "e52e8683",
   "metadata": {},
   "source": [
    "## Thư viện"
   ]
  },
  {
   "cell_type": "code",
   "execution_count": 1,
   "id": "4bb0a793",
   "metadata": {},
   "outputs": [],
   "source": [
    "import pandas as pd\n",
    "from sklearn.model_selection import train_test_split\n",
    "from sklearn.preprocessing import MinMaxScaler\n",
    "import tensorflow as tf\n",
    "from tensorflow.keras.models import Sequential\n",
    "from tensorflow.keras.layers import Dense"
   ]
  },
  {
   "cell_type": "markdown",
   "id": "de43bc2d",
   "metadata": {},
   "source": [
    "## Chương trình"
   ]
  },
  {
   "cell_type": "markdown",
   "id": "b2d271bf",
   "metadata": {},
   "source": [
    "### Load dữ liệu"
   ]
  },
  {
   "cell_type": "code",
   "execution_count": 3,
   "id": "4e7e2e85",
   "metadata": {},
   "outputs": [],
   "source": [
    "data = pd.read_csv('NhietDo.csv')"
   ]
  },
  {
   "cell_type": "markdown",
   "id": "ef21ca4f",
   "metadata": {},
   "source": [
    "### Lấy dữ liệu cho các cột"
   ]
  },
  {
   "cell_type": "code",
   "execution_count": 4,
   "id": "74d26028",
   "metadata": {},
   "outputs": [],
   "source": [
    "X = data[['ToaDo_X', 'ToaDo_Y']]\n",
    "y = data['NhietDo']"
   ]
  },
  {
   "cell_type": "markdown",
   "id": "52586392",
   "metadata": {},
   "source": [
    "### Chia dữ liệu thành train/test"
   ]
  },
  {
   "cell_type": "code",
   "execution_count": 5,
   "id": "dea5b19d",
   "metadata": {},
   "outputs": [],
   "source": [
    "X_train, X_test, y_train, y_test = train_test_split(X, y, test_size=0.2, random_state=42)"
   ]
  },
  {
   "cell_type": "markdown",
   "id": "49b6a056",
   "metadata": {},
   "source": [
    "### Chuẩn hóa"
   ]
  },
  {
   "cell_type": "code",
   "execution_count": 6,
   "id": "62168654",
   "metadata": {},
   "outputs": [],
   "source": [
    "scaler = MinMaxScaler()\n",
    "X_train_scaled = scaler.fit_transform(X_train)\n",
    "X_test_scaled = scaler.transform(X_test)"
   ]
  },
  {
   "cell_type": "markdown",
   "id": "2c68c7ff",
   "metadata": {},
   "source": [
    "### Xây dựng mô hình"
   ]
  },
  {
   "cell_type": "code",
   "execution_count": 7,
   "id": "3c33ef12",
   "metadata": {},
   "outputs": [
    {
     "name": "stderr",
     "output_type": "stream",
     "text": [
      "c:\\Users\\VennDev\\.conda\\envs\\AI\\lib\\site-packages\\keras\\src\\layers\\core\\dense.py:87: UserWarning: Do not pass an `input_shape`/`input_dim` argument to a layer. When using Sequential models, prefer using an `Input(shape)` object as the first layer in the model instead.\n",
      "  super().__init__(activity_regularizer=activity_regularizer, **kwargs)\n"
     ]
    }
   ],
   "source": [
    "model = Sequential([\n",
    "    Dense(64, activation='relu', input_shape=(X_train_scaled.shape[1],)),\n",
    "    Dense(32, activation='relu'),\n",
    "    Dense(1)\n",
    "])"
   ]
  },
  {
   "cell_type": "markdown",
   "id": "86840e64",
   "metadata": {},
   "source": [
    "### Biên dịch mô hình"
   ]
  },
  {
   "cell_type": "code",
   "execution_count": 8,
   "id": "3581ae4b",
   "metadata": {},
   "outputs": [],
   "source": [
    "model.compile(optimizer='adam', loss='mean_squared_error')"
   ]
  },
  {
   "cell_type": "markdown",
   "id": "82ace7d5",
   "metadata": {},
   "source": [
    "### Huấn luyện mô hình"
   ]
  },
  {
   "cell_type": "code",
   "execution_count": 10,
   "id": "930d3b69",
   "metadata": {},
   "outputs": [
    {
     "name": "stdout",
     "output_type": "stream",
     "text": [
      "Epoch 1/10\n",
      "\u001b[1m26215/26215\u001b[0m \u001b[32m━━━━━━━━━━━━━━━━━━━━\u001b[0m\u001b[37m\u001b[0m \u001b[1m40s\u001b[0m 2ms/step - loss: 0.2886 - val_loss: 0.3199\n",
      "Epoch 2/10\n",
      "\u001b[1m26215/26215\u001b[0m \u001b[32m━━━━━━━━━━━━━━━━━━━━\u001b[0m\u001b[37m\u001b[0m \u001b[1m43s\u001b[0m 2ms/step - loss: 0.2850 - val_loss: 0.3147\n",
      "Epoch 3/10\n",
      "\u001b[1m26215/26215\u001b[0m \u001b[32m━━━━━━━━━━━━━━━━━━━━\u001b[0m\u001b[37m\u001b[0m \u001b[1m43s\u001b[0m 2ms/step - loss: 0.2837 - val_loss: 0.2775\n",
      "Epoch 4/10\n",
      "\u001b[1m26215/26215\u001b[0m \u001b[32m━━━━━━━━━━━━━━━━━━━━\u001b[0m\u001b[37m\u001b[0m \u001b[1m41s\u001b[0m 2ms/step - loss: 0.2830 - val_loss: 0.2764\n",
      "Epoch 5/10\n",
      "\u001b[1m26215/26215\u001b[0m \u001b[32m━━━━━━━━━━━━━━━━━━━━\u001b[0m\u001b[37m\u001b[0m \u001b[1m44s\u001b[0m 2ms/step - loss: 0.2830 - val_loss: 0.3504\n",
      "Epoch 6/10\n",
      "\u001b[1m26215/26215\u001b[0m \u001b[32m━━━━━━━━━━━━━━━━━━━━\u001b[0m\u001b[37m\u001b[0m \u001b[1m44s\u001b[0m 2ms/step - loss: 0.2814 - val_loss: 0.2688\n",
      "Epoch 7/10\n",
      "\u001b[1m26215/26215\u001b[0m \u001b[32m━━━━━━━━━━━━━━━━━━━━\u001b[0m\u001b[37m\u001b[0m \u001b[1m44s\u001b[0m 2ms/step - loss: 0.2808 - val_loss: 0.2896\n",
      "Epoch 8/10\n",
      "\u001b[1m26215/26215\u001b[0m \u001b[32m━━━━━━━━━━━━━━━━━━━━\u001b[0m\u001b[37m\u001b[0m \u001b[1m44s\u001b[0m 2ms/step - loss: 0.2817 - val_loss: 0.2972\n",
      "Epoch 9/10\n",
      "\u001b[1m26215/26215\u001b[0m \u001b[32m━━━━━━━━━━━━━━━━━━━━\u001b[0m\u001b[37m\u001b[0m \u001b[1m47s\u001b[0m 2ms/step - loss: 0.2806 - val_loss: 0.3364\n",
      "Epoch 10/10\n",
      "\u001b[1m26215/26215\u001b[0m \u001b[32m━━━━━━━━━━━━━━━━━━━━\u001b[0m\u001b[37m\u001b[0m \u001b[1m46s\u001b[0m 2ms/step - loss: 0.2820 - val_loss: 0.2771\n"
     ]
    },
    {
     "data": {
      "text/plain": [
       "<keras.src.callbacks.history.History at 0x28b22f10ee0>"
      ]
     },
     "execution_count": 10,
     "metadata": {},
     "output_type": "execute_result"
    }
   ],
   "source": [
    "model.fit(X_train_scaled, y_train, epochs=10, batch_size=32, validation_data=(X_test_scaled, y_test))"
   ]
  },
  {
   "cell_type": "markdown",
   "id": "e219ee92",
   "metadata": {},
   "source": [
    "# Đánh giá"
   ]
  },
  {
   "cell_type": "code",
   "execution_count": 11,
   "id": "021a5fef",
   "metadata": {},
   "outputs": [
    {
     "name": "stdout",
     "output_type": "stream",
     "text": [
      "\u001b[1m6554/6554\u001b[0m \u001b[32m━━━━━━━━━━━━━━━━━━━━\u001b[0m\u001b[37m\u001b[0m \u001b[1m7s\u001b[0m 1ms/step - loss: 0.2771\n",
      "Sai số: 0.27712905406951904\n"
     ]
    }
   ],
   "source": [
    "loss = model.evaluate(X_test_scaled, y_test)\n",
    "print(f'Sai số: {loss}')"
   ]
  },
  {
   "cell_type": "markdown",
   "id": "30baa1d2",
   "metadata": {},
   "source": [
    "# Dự đoán"
   ]
  },
  {
   "cell_type": "code",
   "execution_count": 12,
   "id": "faf6f319",
   "metadata": {},
   "outputs": [
    {
     "name": "stdout",
     "output_type": "stream",
     "text": [
      "\u001b[1m6554/6554\u001b[0m \u001b[32m━━━━━━━━━━━━━━━━━━━━\u001b[0m\u001b[37m\u001b[0m \u001b[1m7s\u001b[0m 1ms/step\n",
      "Độ chính xác: 24.593576, Dự đoán: [24.996128]\n",
      "Độ chính xác: 25.025347, Dự đoán: [24.857927]\n",
      "Độ chính xác: 24.941927, Dự đoán: [24.27858]\n",
      "Độ chính xác: 24.600756, Dự đoán: [23.228073]\n",
      "Độ chính xác: 24.253746, Dự đoán: [24.219141]\n"
     ]
    }
   ],
   "source": [
    "predictions = model.predict(X_test_scaled)\n",
    "for i in range(5):\n",
    "    print(f'Dự liệu thô: {y_test.values[i]}, Dự đoán: {predictions[i]}')"
   ]
  },
  {
   "cell_type": "markdown",
   "id": "a0ffdd87",
   "metadata": {},
   "source": [
    "# Lưu mô hình"
   ]
  },
  {
   "cell_type": "code",
   "execution_count": 13,
   "id": "9f22dd0e",
   "metadata": {},
   "outputs": [
    {
     "name": "stderr",
     "output_type": "stream",
     "text": [
      "WARNING:absl:You are saving your model as an HDF5 file via `model.save()` or `keras.saving.save_model(model)`. This file format is considered legacy. We recommend using instead the native Keras format, e.g. `model.save('my_model.keras')` or `keras.saving.save_model(model, 'my_model.keras')`. \n"
     ]
    }
   ],
   "source": [
    "model.save('temperature_analysis_model.h5')"
   ]
  }
 ],
 "metadata": {
  "kernelspec": {
   "display_name": "Python 3 (ipykernel)",
   "language": "python",
   "name": "python3"
  },
  "language_info": {
   "codemirror_mode": {
    "name": "ipython",
    "version": 3
   },
   "file_extension": ".py",
   "mimetype": "text/x-python",
   "name": "python",
   "nbconvert_exporter": "python",
   "pygments_lexer": "ipython3",
   "version": "3.10.15"
  }
 },
 "nbformat": 4,
 "nbformat_minor": 5
}
