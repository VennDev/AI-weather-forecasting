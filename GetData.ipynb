{
 "cells": [
  {
   "cell_type": "markdown",
   "id": "c6d53cf9",
   "metadata": {},
   "source": [
    "# Chi xuất dữ liệu ảnh thành danh sách các tọa độ có nhiệt độ"
   ]
  },
  {
   "cell_type": "code",
   "execution_count": 7,
   "id": "f22e2289-2089-4c0d-a290-a9ed653547eb",
   "metadata": {},
   "outputs": [
    {
     "name": "stdout",
     "output_type": "stream",
     "text": [
      "Data exported to NhietDo.csv\n"
     ]
    }
   ],
   "source": [
    "import rasterio\n",
    "import pandas as pd\n",
    "import numpy as np\n",
    "\n",
    "tif_file = 'LST_HCM_2017.tif'\n",
    "with rasterio.open(tif_file) as src:\n",
    "    band_data = src.read(1)\n",
    "    transform = src.transform\n",
    "\n",
    "rows, cols = np.indices(band_data.shape)\n",
    "x_coords, y_coords = transform * (cols, rows)\n",
    "\n",
    "data = {\n",
    "    'ToaDo_X': x_coords.flatten(),\n",
    "    'ToaDo_Y': y_coords.flatten(),\n",
    "    'NhietDo': band_data.flatten()\n",
    "}\n",
    "\n",
    "df = pd.DataFrame(data)\n",
    "df = df[(df['NhietDo'] >= 15) & (df['NhietDo'] <= 45)]\n",
    "df = df.sort_values(by='NhietDo')\n",
    "\n",
    "csv_file = 'NhietDo.csv'\n",
    "df.to_csv(csv_file, index=False)\n",
    "print(f'Đã thống kê thành công thành file {csv_file}')"
   ]
  }
 ],
 "metadata": {
  "kernelspec": {
   "display_name": "Python 3 (ipykernel)",
   "language": "python",
   "name": "python3"
  },
  "language_info": {
   "codemirror_mode": {
    "name": "ipython",
    "version": 3
   },
   "file_extension": ".py",
   "mimetype": "text/x-python",
   "name": "python",
   "nbconvert_exporter": "python",
   "pygments_lexer": "ipython3",
   "version": "3.10.14"
  }
 },
 "nbformat": 4,
 "nbformat_minor": 5
}
